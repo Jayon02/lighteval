{
 "cells": [
  {
   "cell_type": "code",
   "execution_count": null,
   "metadata": {},
   "outputs": [
    {
     "name": "stderr",
     "output_type": "stream",
     "text": [
      "[2025-02-13 18:54:33] server_args=ServerArgs(model_path='Qwen/Qwen2-7B', tokenizer_path='Qwen/Qwen2-7B', tokenizer_mode='auto', load_format='auto', trust_remote_code=False, dtype='float16', kv_cache_dtype='auto', quantization_param_path=None, quantization=None, context_length=None, device='cuda:7', served_model_name='Qwen/Qwen2-7B', chat_template=None, is_embedding=False, revision=None, skip_tokenizer_init=False, host='127.0.0.1', port=30000, mem_fraction_static=0.8, max_running_requests=None, max_total_tokens=None, chunked_prefill_size=8192, max_prefill_tokens=16384, schedule_policy='lpm', schedule_conservativeness=1.0, cpu_offload_gb=0, prefill_only_one_req=False, tp_size=1, stream_interval=1, stream_output=False, random_seed=1234, constrained_json_whitespace_pattern=None, watchdog_timeout=300, download_dir=None, base_gpu_id=0, log_level='info', log_level_http=None, log_requests=False, show_time_cost=False, enable_metrics=False, decode_log_interval=40, api_key=None, file_storage_pth='sglang_storage', enable_cache_report=False, dp_size=1, load_balance_method='round_robin', ep_size=1, dist_init_addr=None, nnodes=1, node_rank=0, json_model_override_args='{}', lora_paths=None, max_loras_per_batch=8, lora_backend='triton', attention_backend='flashinfer', sampling_backend='flashinfer', grammar_backend='outlines', speculative_draft_model_path=None, speculative_algorithm=None, speculative_num_steps=5, speculative_num_draft_tokens=64, speculative_eagle_topk=8, enable_double_sparsity=False, ds_channel_config_path=None, ds_heavy_channel_num=32, ds_heavy_token_num=256, ds_heavy_channel_type='qk', ds_sparse_decode_threshold=4096, disable_radix_cache=False, disable_jump_forward=False, disable_cuda_graph=False, disable_cuda_graph_padding=False, disable_outlines_disk_cache=False, disable_custom_all_reduce=False, disable_mla=False, disable_overlap_schedule=False, enable_mixed_chunk=False, enable_dp_attention=False, enable_ep_moe=False, enable_torch_compile=False, torch_compile_max_bs=32, cuda_graph_max_bs=160, cuda_graph_bs=None, torchao_config='', enable_nan_detection=False, enable_p2p_check=False, triton_attention_reduce_in_fp32=False, triton_attention_num_kv_splits=8, num_continuous_decode_steps=1, delete_ckpt_after_loading=False, enable_memory_saver=False, allow_auto_truncate=False, enable_custom_logit_processor=False, tool_call_parser=None, enable_hierarchical_cache=False)\n",
      "[2025-02-13 18:54:33] Casting torch.bfloat16 to torch.float16.\n"
     ]
    },
    {
     "name": "stdout",
     "output_type": "stream",
     "text": [
      "INFO 02-13 18:54:37 __init__.py:190] Automatically detected platform cuda.\n",
      "INFO 02-13 18:54:37 __init__.py:190] Automatically detected platform cuda.\n"
     ]
    },
    {
     "name": "stderr",
     "output_type": "stream",
     "text": [
      "[2025-02-13 18:54:39 TP0] Casting torch.bfloat16 to torch.float16.\n",
      "[2025-02-13 18:54:40 TP0] Casting torch.bfloat16 to torch.float16.\n",
      "[2025-02-13 18:54:40 TP0] Init torch distributed begin.\n",
      "[2025-02-13 18:54:40 TP0] Scheduler hit an exception: Traceback (most recent call last):\n",
      "  File \"/data/qiujiang/.local/lib/python3.10/site-packages/sglang/srt/managers/scheduler.py\", line 1787, in run_scheduler_process\n",
      "    scheduler = Scheduler(server_args, port_args, gpu_id, tp_rank, dp_rank)\n",
      "  File \"/data/qiujiang/.local/lib/python3.10/site-packages/sglang/srt/managers/scheduler.py\", line 240, in __init__\n",
      "    self.tp_worker = TpWorkerClass(\n",
      "  File \"/data/qiujiang/.local/lib/python3.10/site-packages/sglang/srt/managers/tp_worker_overlap_thread.py\", line 63, in __init__\n",
      "    self.worker = TpModelWorker(server_args, gpu_id, tp_rank, dp_rank, nccl_port)\n",
      "  File \"/data/qiujiang/.local/lib/python3.10/site-packages/sglang/srt/managers/tp_worker.py\", line 68, in __init__\n",
      "    self.model_runner = ModelRunner(\n",
      "  File \"/data/qiujiang/.local/lib/python3.10/site-packages/sglang/srt/model_executor/model_runner.py\", line 178, in __init__\n",
      "    min_per_gpu_memory = self.init_torch_distributed()\n",
      "  File \"/data/qiujiang/.local/lib/python3.10/site-packages/sglang/srt/model_executor/model_runner.py\", line 247, in init_torch_distributed\n",
      "    backend=backend,\n",
      "UnboundLocalError: local variable 'backend' referenced before assignment\n",
      "\n",
      "[2025-02-13 18:54:40] Received sigquit from a child proces. It usually means the child failed.\n"
     ]
    },
    {
     "ename": "",
     "evalue": "",
     "output_type": "error",
     "traceback": [
      "\u001b[1;31m在当前单元格或上一个单元格中执行代码时 Kernel 崩溃。\n",
      "\u001b[1;31m请查看单元格中的代码，以确定故障的可能原因。\n",
      "\u001b[1;31m单击<a href='https://aka.ms/vscodeJupyterKernelCrash'>此处</a>了解详细信息。\n",
      "\u001b[1;31m有关更多详细信息，请查看 Jupyter <a href='command:jupyter.viewOutput'>log</a>。"
     ]
    }
   ],
   "source": [
    "import sglang as sgl\n",
    "import os\n",
    "os.environ[\"CUDA_VISIBLE_DEVICES\"] = \"7\"\n",
    "\n",
    "model_args = {\n",
    "            \"model_path\": \"Qwen/Qwen2-7B\",\n",
    "            \"mem_fraction_static\": 0.8,\n",
    "            \"trust_remote_code\": False,\n",
    "            \"dtype\": 'float16',\n",
    "            \"device\": \"cuda\",\n",
    "            \"random_seed\": 1234,\n",
    "            \"load_format\": 'auto',\n",
    "            \"context_length\": None,\n",
    "            \"dp_size\": 1,\n",
    "            \"tp_size\": 1,\n",
    "            \"log_level\": \"info\",\n",
    "        }\n",
    "\n",
    "llm = sgl.Engine(**model_args)"
   ]
  },
  {
   "cell_type": "code",
   "execution_count": null,
   "metadata": {},
   "outputs": [
    {
     "name": "stdout",
     "output_type": "stream",
     "text": [
      "Input Text: Question: The great dragon, Perg, sat high atop mount Farbo, breathing fire upon anything within a distance of 1000 feet.  Polly could throw the gold javelin, the only known weapon that could sleigh the dragon, for a distance of 400 feet, well within the reach of the dragon's flames.  But when Polly held the sapphire gemstone, she could throw the javelin three times farther than when not holding the gemstone. If holding the gemstone, how far outside of the reach of the dragon's flames could Polly stand and still hit the dragon with the gold javelin?\n",
      "Answer:\n",
      "Tokenized Input: [14582, 25, 576, 2244, 25105, 11, 393, 2375, 11, 7578, 1550, 45988, 6470, 13452, 749, 11, 25938, 3940, 5193, 4113, 2878, 264, 6010, 315, 220, 16, 15, 15, 15, 7541, 13, 220, 93417, 1410, 2510, 279, 6623, 1258, 32730, 11, 279, 1172, 3881, 10288, 429, 1410, 19747, 1090, 279, 25105, 11, 369, 264, 6010, 315, 220, 19, 15, 15, 7541, 11, 1632, 2878, 279, 5545, 315, 279, 25105, 594, 38785, 13, 220, 1988, 979, 93417, 5644, 279, 274, 55105, 18747, 10812, 11, 1340, 1410, 2510, 279, 1258, 32730, 2326, 3039, 42626, 1091, 979, 537, 9963, 279, 18747, 10812, 13, 1416, 9963, 279, 18747, 10812, 11, 1246, 3041, 4889, 315, 279, 5545, 315, 279, 25105, 594, 38785, 1410, 93417, 2498, 323, 2058, 4201, 279, 25105, 448, 279, 6623, 1258, 32730, 5267, 16141, 25]\n"
     ]
    },
    {
     "name": "stderr",
     "output_type": "stream",
     "text": [
      "[2025-02-13 18:52:48 TP0] Prefill batch. #new-seq: 1, #new-token: 1, #cached-token: 131, cache hit rate: 85.53%, token usage: 0.00, #running-req: 0, #queue-req: 0\n",
      "[2025-02-13 18:52:48 TP0] Decode batch. #running-req: 1, #token: 168, token usage: 0.00, gen throughput (token/s): 1.56, #queue-req: 0\n",
      "[2025-02-13 18:52:49 TP0] Decode batch. #running-req: 1, #token: 208, token usage: 0.00, gen throughput (token/s): 90.40, #queue-req: 0\n"
     ]
    },
    {
     "name": "stdout",
     "output_type": "stream",
     "text": [
      " The maximum strength of the dragon's flame is 1000 feet.\n",
      "Polly can throw the javelin 400 feet.\n",
      "With the gemstone, Polly can throw the javelin 1200 feet.\n",
      "To know how far outside of the reach of the dragon's flames, subtract the radius of dragon's flame from the distance Polly can throw the javelin with the gemstone.\n",
      "1000 feet - 1200 feet \n",
      "[-2.8583950996398926, -3.8593215942382812, -7.556135654449463, -0.5337253212928772, -0.3920714557170868, -0.4501698911190033, -0.915484607219696, -2.821345329284668, -0.59368497133255, -0.08475291728973389, -0.024543894454836845, -0.018635280430316925, -0.0005643171607516706, -0.0018791320035234094, -0.06897734850645065, -1.1276276111602783, -1.1253678798675537, -0.0005931228515692055, -0.3833225667476654, -0.05166562274098396, -0.10860683768987656, -0.219186469912529, -0.0021912604570388794, -0.49477970600128174, -0.05115484446287155, -0.0008736491436138749, -9.167614916805178e-05, -0.0061201793141663074, -1.7261691093444824, -1.6716943979263306, -0.041685041040182114, -0.95118248462677, -0.02265605330467224, -0.11160624027252197, -0.8281325697898865, -0.09638986736536026, -0.009081226773560047, -0.1486058235168457, -0.0025754328817129135, -0.00018491070659365505, -0.4758526086807251, -3.150304079055786, -0.07301954925060272, -0.0010831259423866868, -0.0002160305593861267, -0.005592877045273781, -0.41358381509780884, -2.647012233734131, -5.247855186462402, -0.24102401733398438, -0.09311946481466293, -0.8317899703979492, -0.6788779497146606, -0.0359906442463398, -1.3533501625061035, -0.01893039047718048, -0.02030104026198387, -0.04280751571059227, -0.04081413149833679, -0.11108856648206711, -2.6278252601623535, -2.8581912517547607, -0.4889114201068878, -7.2054572105407715, -0.03838033974170685, -3.1248655319213867, -0.055235475301742554, -0.5087839365005493, -0.34936070442199707, -0.18646669387817383, -1.139211654663086, -0.30812305212020874, -0.06017450615763664, -0.019275961443781853, -0.38039225339889526, -0.008240645751357079, -5.364562093745917e-05, -0.9639298319816589, -0.07902666926383972, -0.017107373103499413, -0.02041461132466793, -0.6167521476745605, -1.2644842863082886, -2.5223400592803955, -0.0004171406908426434, -0.0015302081592381, -0.9790891408920288, -0.13750827312469482, -0.01378148514777422, -0.08798594027757645, -0.0027381679974496365, -5.0009548431262374e-05, -0.00014842658129055053, -0.004561141133308411, -0.04621404781937599]\n",
      "{'text': \" The maximum strength of the dragon's flame is 1000 feet.\\nPolly can throw the javelin 400 feet.\\nWith the gemstone, Polly can throw the javelin 1200 feet.\\nTo know how far outside of the reach of the dragon's flames, subtract the radius of dragon's flame from the distance Polly can throw the javelin with the gemstone.\\n1000 feet - 1200 feet \", 'meta_info': {'id': 'ab5178c38cb848af833e67ad96ec75bf', 'finish_reason': {'type': 'stop', 'matched': '='}, 'prompt_tokens': 132, 'input_token_logprobs': [], 'output_token_logprobs': [(-2.8583950996398926, 576, None), (-3.8593215942382812, 7192, None), (-7.556135654449463, 8170, None), (-0.5337253212928772, 315, None), (-0.3920714557170868, 279, None), (-0.4501698911190033, 25105, None), (-0.915484607219696, 594, None), (-2.821345329284668, 34578, None), (-0.59368497133255, 374, None), (-0.08475291728973389, 220, None), (-0.024543894454836845, 16, None), (-0.018635280430316925, 15, None), (-0.0005643171607516706, 15, None), (-0.0018791320035234094, 15, None), (-0.06897734850645065, 7541, None), (-1.1276276111602783, 624, None), (-1.1253678798675537, 47, None), (-0.0005931228515692055, 8618, None), (-0.3833225667476654, 646, None), (-0.05166562274098396, 2510, None), (-0.10860683768987656, 279, None), (-0.219186469912529, 1258, None), (-0.0021912604570388794, 32730, None), (-0.49477970600128174, 220, None), (-0.05115484446287155, 19, None), (-0.0008736491436138749, 15, None), (-9.167614916805178e-05, 15, None), (-0.0061201793141663074, 7541, None), (-1.7261691093444824, 624, None), (-1.6716943979263306, 2354, None), (-0.041685041040182114, 279, None), (-0.95118248462677, 18747, None), (-0.02265605330467224, 10812, None), (-0.11160624027252197, 11, None), (-0.8281325697898865, 93417, None), (-0.09638986736536026, 646, None), (-0.009081226773560047, 2510, None), (-0.1486058235168457, 279, None), (-0.0025754328817129135, 1258, None), (-0.00018491070659365505, 32730, None), (-0.4758526086807251, 220, None), (-3.150304079055786, 16, None), (-0.07301954925060272, 17, None), (-0.0010831259423866868, 15, None), (-0.0002160305593861267, 15, None), (-0.005592877045273781, 7541, None), (-0.41358381509780884, 624, None), (-2.647012233734131, 1249, None), (-5.247855186462402, 1414, None), (-0.24102401733398438, 1246, None), (-0.09311946481466293, 3041, None), (-0.8317899703979492, 4889, None), (-0.6788779497146606, 315, None), (-0.0359906442463398, 279, None), (-1.3533501625061035, 5545, None), (-0.01893039047718048, 315, None), (-0.02030104026198387, 279, None), (-0.04280751571059227, 25105, None), (-0.04081413149833679, 594, None), (-0.11108856648206711, 38785, None), (-2.6278252601623535, 11, None), (-2.8581912517547607, 32256, None), (-0.4889114201068878, 279, None), (-7.2054572105407715, 10578, None), (-0.03838033974170685, 315, None), (-3.1248655319213867, 25105, None), (-0.055235475301742554, 594, None), (-0.5087839365005493, 34578, None), (-0.34936070442199707, 504, None), (-0.18646669387817383, 279, None), (-1.139211654663086, 6010, None), (-0.30812305212020874, 93417, None), (-0.06017450615763664, 646, None), (-0.019275961443781853, 2510, None), (-0.38039225339889526, 279, None), (-0.008240645751357079, 1258, None), (-5.364562093745917e-05, 32730, None), (-0.9639298319816589, 448, None), (-0.07902666926383972, 279, None), (-0.017107373103499413, 18747, None), (-0.02041461132466793, 10812, None), (-0.6167521476745605, 624, None), (-1.2644842863082886, 16, None), (-2.5223400592803955, 15, None), (-0.0004171406908426434, 15, None), (-0.0015302081592381, 15, None), (-0.9790891408920288, 7541, None), (-0.13750827312469482, 481, None), (-0.01378148514777422, 220, None), (-0.08798594027757645, 16, None), (-0.0027381679974496365, 17, None), (-5.0009548431262374e-05, 15, None), (-0.00014842658129055053, 15, None), (-0.004561141133308411, 7541, None), (-0.04621404781937599, 284, None)], 'completion_tokens': 95, 'cached_tokens': 131}}\n"
     ]
    }
   ],
   "source": [
    "from sglang.srt.hf_transformers_utils import get_tokenizer\n",
    "\n",
    "sgl_tokenizer = get_tokenizer(\n",
    "               \"Qwen/Qwen2-7B\",\n",
    "               tokenizer_mode=\"auto\",\n",
    "               trust_remote_code=False,\n",
    "               tokenizer_revision=\"main\",\n",
    "            )\n",
    "# input_text = \"Question: Fred was preparing for a party to be held in four days.  So, he made 24 gallons of root beer on the first day and put them in the refrigerator cooler.  But later that evening, his children discovered the delicious nectar and robbed the cooler, drinking 4 of those gallons of root beer.  On the second day, his wife Barbie also discovered the root beer and accidentally spilled 7 gallons. On the third day, Fred's friend Ronnie visited Fred's house and helped himself to the root beer, further reducing the amount remaining by 5 gallons.  On the fourth day, 3 people showed up for the party.  If Fred and the others shared the remaining root beer equally, how much was available for each to drink during the party?\\nAnswer:\"\n",
    "# input_text = \"Question: A farmer is buying feed for his horses. He buys a variety of hay, oats, carrots and sugar cubes. Since sugar cubes are a rare treat, he only buys two 1-pound boxes of them for the whole stable. He only wants enough carrots to feed the horses while the vegetables are fresh, so he buys four 12-pound bags. Hay is the main diet of his horses, so he buys forty-two 75-pound bales. Oats are a staple to supplement the hay, so he buys twenty 65-pound sacks. If his farm truck can carry 2250 pounds at a time, how many trips does the farmer need to transport all the feed?\\nAnswer:\"\n",
    "input_text = \"Question: The great dragon, Perg, sat high atop mount Farbo, breathing fire upon anything within a distance of 1000 feet.  Polly could throw the gold javelin, the only known weapon that could sleigh the dragon, for a distance of 400 feet, well within the reach of the dragon's flames.  But when Polly held the sapphire gemstone, she could throw the javelin three times farther than when not holding the gemstone. If holding the gemstone, how far outside of the reach of the dragon's flames could Polly stand and still hit the dragon with the gold javelin?\\nAnswer:\"\n",
    "\n",
    "\n",
    "input_tokens = sgl_tokenizer.encode(input_text)\n",
    "print(f\"Input Text: {input_text}\")\n",
    "print(f\"Tokenized Input: {input_tokens}\")\n",
    "\n",
    "sgl_sampling_params = {\n",
    "                  'max_new_tokens': 256, \n",
    "                  'stop_token_ids': [], \n",
    "                  'temperature': 1.0, \n",
    "                  'stop': ['Question=', 'Question', '=', '<|endoftext|>'], \n",
    "                  'top_p': 1.0, \n",
    "                  'top_k': -1, \n",
    "                  'min_p': 0.0, \n",
    "                  'frequency_penalty': 0.0, \n",
    "                  'presence_penalty': 0.0, \n",
    "                  'repetition_penalty': 1.0, \n",
    "                  'min_new_tokens': 0, \n",
    "                  'skip_special_tokens': True,\n",
    "                  'n': 1\n",
    "               }\n",
    "\n",
    "outputs = llm.generate(input_ids=input_tokens, sampling_params=sgl_sampling_params, return_logprob=True)\n",
    "\n",
    "meta_info = outputs[\"meta_info\"]\n",
    "output_token_logprobs = meta_info[\"output_token_logprobs\"]\n",
    "logprobs = [output[0] for output in output_token_logprobs]\n",
    "print(outputs['text'])\n",
    "print(logprobs)\n",
    "print(outputs)"
   ]
  },
  {
   "cell_type": "code",
   "execution_count": 8,
   "metadata": {},
   "outputs": [],
   "source": [
    "\n",
    "llm.shutdown()"
   ]
  }
 ],
 "metadata": {
  "kernelspec": {
   "display_name": "Python 3",
   "language": "python",
   "name": "python3"
  },
  "language_info": {
   "codemirror_mode": {
    "name": "ipython",
    "version": 3
   },
   "file_extension": ".py",
   "mimetype": "text/x-python",
   "name": "python",
   "nbconvert_exporter": "python",
   "pygments_lexer": "ipython3",
   "version": "3.10.12"
  }
 },
 "nbformat": 4,
 "nbformat_minor": 2
}
